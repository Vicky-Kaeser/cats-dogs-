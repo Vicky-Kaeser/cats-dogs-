{
 "cells": [
  {
   "cell_type": "markdown",
   "id": "b05e7f99",
   "metadata": {},
   "source": [
    "# Jefferson County Animal Services Intake Data Analysis"
   ]
  },
  {
   "cell_type": "markdown",
   "id": "2967336c",
   "metadata": {},
   "source": [
    "## Did the animal intakes in 2020 reflect the upsurge of animal adoptions during Covid-19?"
   ]
  },
  {
   "cell_type": "markdown",
   "id": "830f9c7b",
   "metadata": {},
   "source": [
    "### Data source: https://data.louisvilleky.gov/dataset/animal-service-intake-and-outcome"
   ]
  },
  {
   "cell_type": "code",
   "execution_count": 1,
   "id": "9bce33e1",
   "metadata": {},
   "outputs": [
    {
     "name": "stdout",
     "output_type": "stream",
     "text": [
      "Python 3.9.7\n"
     ]
    }
   ],
   "source": [
    "#verify the python version is 3.9\n",
    "!python --version\n"
   ]
  },
  {
   "cell_type": "code",
   "execution_count": 2,
   "id": "6602da28",
   "metadata": {},
   "outputs": [],
   "source": [
    "#import packages\n",
    "import pandas as pd\n",
    "import numpy as np\n",
    "import matplotlib.pyplot as plt"
   ]
  },
  {
   "cell_type": "markdown",
   "id": "158167a6",
   "metadata": {},
   "source": [
    "### Category 2: Utilize External Data\n",
    "Read data from an external file, such as CSV."
   ]
  },
  {
   "cell_type": "code",
   "execution_count": 3,
   "id": "a71b381a",
   "metadata": {
    "scrolled": true
   },
   "outputs": [
    {
     "name": "stderr",
     "output_type": "stream",
     "text": [
      "C:\\Users\\Vicky\\AppData\\Local\\Temp\\ipykernel_23248\\101569857.py:1: DtypeWarning: Columns (0,1,2,3,4,5,6,7,8,9,10,11,12,13,14,15,16) have mixed types. Specify dtype option on import or set low_memory=False.\n",
      "  jeffco = pd.read_csv('data/raw/Animal_IO_Data.csv')\n"
     ]
    }
   ],
   "source": [
    "jeffco = pd.read_csv('data/raw/Animal_IO_Data.csv')"
   ]
  },
  {
   "cell_type": "code",
   "execution_count": 4,
   "id": "8c8a5d66",
   "metadata": {},
   "outputs": [
    {
     "data": {
      "text/html": [
       "<div>\n",
       "<style scoped>\n",
       "    .dataframe tbody tr th:only-of-type {\n",
       "        vertical-align: middle;\n",
       "    }\n",
       "\n",
       "    .dataframe tbody tr th {\n",
       "        vertical-align: top;\n",
       "    }\n",
       "\n",
       "    .dataframe thead th {\n",
       "        text-align: right;\n",
       "    }\n",
       "</style>\n",
       "<table border=\"1\" class=\"dataframe\">\n",
       "  <thead>\n",
       "    <tr style=\"text-align: right;\">\n",
       "      <th></th>\n",
       "      <th>kennel</th>\n",
       "      <th>animalid</th>\n",
       "      <th>jurisdiction</th>\n",
       "      <th>intype</th>\n",
       "      <th>insubtype</th>\n",
       "      <th>indate</th>\n",
       "      <th>surreason</th>\n",
       "      <th>outtype</th>\n",
       "      <th>outsubtype</th>\n",
       "      <th>outdate</th>\n",
       "      <th>animaltype</th>\n",
       "      <th>sex</th>\n",
       "      <th>bites</th>\n",
       "      <th>petsize</th>\n",
       "      <th>color</th>\n",
       "      <th>breed</th>\n",
       "      <th>sourcezipcode</th>\n",
       "    </tr>\n",
       "  </thead>\n",
       "  <tbody>\n",
       "    <tr>\n",
       "      <th>0</th>\n",
       "      <td>TNR/SNR</td>\n",
       "      <td>A673775</td>\n",
       "      <td>40216</td>\n",
       "      <td>STRAY</td>\n",
       "      <td>OTC</td>\n",
       "      <td>11/14/2019 0:00</td>\n",
       "      <td>STRAY</td>\n",
       "      <td>TNR</td>\n",
       "      <td>NaN</td>\n",
       "      <td>11/16/2019 0:00</td>\n",
       "      <td>CAT</td>\n",
       "      <td>S</td>\n",
       "      <td>N</td>\n",
       "      <td>LARGE</td>\n",
       "      <td>BRN TABBY</td>\n",
       "      <td>DOMESTIC SH</td>\n",
       "      <td>40216</td>\n",
       "    </tr>\n",
       "    <tr>\n",
       "      <th>1</th>\n",
       "      <td>TNR/SNR</td>\n",
       "      <td>A678305</td>\n",
       "      <td>40216</td>\n",
       "      <td>STRAY</td>\n",
       "      <td>OTC</td>\n",
       "      <td>3/11/2020 0:00</td>\n",
       "      <td>STRAY</td>\n",
       "      <td>SNR</td>\n",
       "      <td>NaN</td>\n",
       "      <td>3/13/2020 0:00</td>\n",
       "      <td>CAT</td>\n",
       "      <td>S</td>\n",
       "      <td>N</td>\n",
       "      <td>KITTN</td>\n",
       "      <td>BRN TABBY</td>\n",
       "      <td>DOMESTIC SH</td>\n",
       "      <td>40216</td>\n",
       "    </tr>\n",
       "    <tr>\n",
       "      <th>2</th>\n",
       "      <td>TNR/SNR</td>\n",
       "      <td>A678308</td>\n",
       "      <td>40216</td>\n",
       "      <td>STRAY</td>\n",
       "      <td>OTC</td>\n",
       "      <td>3/11/2020 0:00</td>\n",
       "      <td>STRAY</td>\n",
       "      <td>SNR</td>\n",
       "      <td>NaN</td>\n",
       "      <td>3/13/2020 0:00</td>\n",
       "      <td>CAT</td>\n",
       "      <td>S</td>\n",
       "      <td>N</td>\n",
       "      <td>KITTN</td>\n",
       "      <td>BLACK</td>\n",
       "      <td>DOMESTIC SH</td>\n",
       "      <td>40216</td>\n",
       "    </tr>\n",
       "    <tr>\n",
       "      <th>3</th>\n",
       "      <td>TNR/SNR</td>\n",
       "      <td>A696632</td>\n",
       "      <td>40216</td>\n",
       "      <td>STRAY</td>\n",
       "      <td>OTC</td>\n",
       "      <td>7/30/2021 0:00</td>\n",
       "      <td>STRAY</td>\n",
       "      <td>SNR</td>\n",
       "      <td>NaN</td>\n",
       "      <td>8/4/2021 0:00</td>\n",
       "      <td>CAT</td>\n",
       "      <td>N</td>\n",
       "      <td>N</td>\n",
       "      <td>KITTN</td>\n",
       "      <td>BLACK</td>\n",
       "      <td>DOMESTIC SH</td>\n",
       "      <td>40216</td>\n",
       "    </tr>\n",
       "    <tr>\n",
       "      <th>4</th>\n",
       "      <td>TNR/SNR</td>\n",
       "      <td>A696633</td>\n",
       "      <td>40216</td>\n",
       "      <td>STRAY</td>\n",
       "      <td>OTC</td>\n",
       "      <td>7/30/2021 0:00</td>\n",
       "      <td>STRAY</td>\n",
       "      <td>SNR</td>\n",
       "      <td>NaN</td>\n",
       "      <td>8/4/2021 0:00</td>\n",
       "      <td>CAT</td>\n",
       "      <td>S</td>\n",
       "      <td>N</td>\n",
       "      <td>KITTN</td>\n",
       "      <td>TORTIE</td>\n",
       "      <td>DOMESTIC SH</td>\n",
       "      <td>40216</td>\n",
       "    </tr>\n",
       "  </tbody>\n",
       "</table>\n",
       "</div>"
      ],
      "text/plain": [
       "    kennel animalid jurisdiction intype insubtype           indate surreason  \\\n",
       "0  TNR/SNR  A673775        40216  STRAY       OTC  11/14/2019 0:00     STRAY   \n",
       "1  TNR/SNR  A678305        40216  STRAY       OTC   3/11/2020 0:00     STRAY   \n",
       "2  TNR/SNR  A678308        40216  STRAY       OTC   3/11/2020 0:00     STRAY   \n",
       "3  TNR/SNR  A696632        40216  STRAY       OTC   7/30/2021 0:00     STRAY   \n",
       "4  TNR/SNR  A696633        40216  STRAY       OTC   7/30/2021 0:00     STRAY   \n",
       "\n",
       "  outtype outsubtype          outdate animaltype sex bites petsize      color  \\\n",
       "0     TNR        NaN  11/16/2019 0:00        CAT   S     N   LARGE  BRN TABBY   \n",
       "1     SNR        NaN   3/13/2020 0:00        CAT   S     N   KITTN  BRN TABBY   \n",
       "2     SNR        NaN   3/13/2020 0:00        CAT   S     N   KITTN      BLACK   \n",
       "3     SNR        NaN    8/4/2021 0:00        CAT   N     N   KITTN      BLACK   \n",
       "4     SNR        NaN    8/4/2021 0:00        CAT   S     N   KITTN     TORTIE   \n",
       "\n",
       "         breed sourcezipcode  \n",
       "0  DOMESTIC SH         40216  \n",
       "1  DOMESTIC SH         40216  \n",
       "2  DOMESTIC SH         40216  \n",
       "3  DOMESTIC SH         40216  \n",
       "4  DOMESTIC SH         40216  "
      ]
     },
     "execution_count": 4,
     "metadata": {},
     "output_type": "execute_result"
    }
   ],
   "source": [
    "jeffco.head()"
   ]
  },
  {
   "cell_type": "code",
   "execution_count": 5,
   "id": "135c2915",
   "metadata": {},
   "outputs": [
    {
     "data": {
      "text/plain": [
       "['kennel',\n",
       " 'animalid',\n",
       " 'jurisdiction',\n",
       " 'intype',\n",
       " 'insubtype',\n",
       " 'indate',\n",
       " 'surreason',\n",
       " 'outtype',\n",
       " 'outsubtype',\n",
       " 'outdate',\n",
       " 'animaltype',\n",
       " 'sex',\n",
       " 'bites',\n",
       " 'petsize',\n",
       " 'color',\n",
       " 'breed',\n",
       " 'sourcezipcode']"
      ]
     },
     "execution_count": 5,
     "metadata": {},
     "output_type": "execute_result"
    }
   ],
   "source": [
    "jeffco.columns.values.tolist()"
   ]
  },
  {
   "cell_type": "markdown",
   "id": "d0083a89",
   "metadata": {},
   "source": [
    "### Selecting only the columns necessary for this analysis\n",
    "1. intype = reason why the animal was brought in\n",
    "2. indate = the date the animal came in\n",
    "3. outdate = the date the animal went out of the system\n",
    "4. animaltype = what kind of animal is it"
   ]
  },
  {
   "cell_type": "markdown",
   "id": "93df19e7",
   "metadata": {},
   "source": [
    "### Category 1: Create a list\n",
    "populate it with several values, retrieve at least one value, and use it in your program"
   ]
  },
  {
   "cell_type": "code",
   "execution_count": 6,
   "id": "2fab5b79",
   "metadata": {},
   "outputs": [],
   "source": [
    "column_list = ['intype', 'indate', 'outdate', 'animaltype']"
   ]
  },
  {
   "cell_type": "code",
   "execution_count": 7,
   "id": "1248ffb2",
   "metadata": {},
   "outputs": [
    {
     "data": {
      "text/plain": [
       "list"
      ]
     },
     "execution_count": 7,
     "metadata": {},
     "output_type": "execute_result"
    }
   ],
   "source": [
    "type(column_list)\n"
   ]
  },
  {
   "cell_type": "code",
   "execution_count": 8,
   "id": "d9462a91",
   "metadata": {},
   "outputs": [
    {
     "data": {
      "text/html": [
       "<div>\n",
       "<style scoped>\n",
       "    .dataframe tbody tr th:only-of-type {\n",
       "        vertical-align: middle;\n",
       "    }\n",
       "\n",
       "    .dataframe tbody tr th {\n",
       "        vertical-align: top;\n",
       "    }\n",
       "\n",
       "    .dataframe thead th {\n",
       "        text-align: right;\n",
       "    }\n",
       "</style>\n",
       "<table border=\"1\" class=\"dataframe\">\n",
       "  <thead>\n",
       "    <tr style=\"text-align: right;\">\n",
       "      <th></th>\n",
       "      <th>intype</th>\n",
       "      <th>indate</th>\n",
       "      <th>outdate</th>\n",
       "      <th>animaltype</th>\n",
       "    </tr>\n",
       "  </thead>\n",
       "  <tbody>\n",
       "    <tr>\n",
       "      <th>0</th>\n",
       "      <td>STRAY</td>\n",
       "      <td>11/14/2019 0:00</td>\n",
       "      <td>11/16/2019 0:00</td>\n",
       "      <td>CAT</td>\n",
       "    </tr>\n",
       "    <tr>\n",
       "      <th>1</th>\n",
       "      <td>STRAY</td>\n",
       "      <td>3/11/2020 0:00</td>\n",
       "      <td>3/13/2020 0:00</td>\n",
       "      <td>CAT</td>\n",
       "    </tr>\n",
       "    <tr>\n",
       "      <th>2</th>\n",
       "      <td>STRAY</td>\n",
       "      <td>3/11/2020 0:00</td>\n",
       "      <td>3/13/2020 0:00</td>\n",
       "      <td>CAT</td>\n",
       "    </tr>\n",
       "    <tr>\n",
       "      <th>3</th>\n",
       "      <td>STRAY</td>\n",
       "      <td>7/30/2021 0:00</td>\n",
       "      <td>8/4/2021 0:00</td>\n",
       "      <td>CAT</td>\n",
       "    </tr>\n",
       "    <tr>\n",
       "      <th>4</th>\n",
       "      <td>STRAY</td>\n",
       "      <td>7/30/2021 0:00</td>\n",
       "      <td>8/4/2021 0:00</td>\n",
       "      <td>CAT</td>\n",
       "    </tr>\n",
       "  </tbody>\n",
       "</table>\n",
       "</div>"
      ],
      "text/plain": [
       "  intype           indate          outdate animaltype\n",
       "0  STRAY  11/14/2019 0:00  11/16/2019 0:00        CAT\n",
       "1  STRAY   3/11/2020 0:00   3/13/2020 0:00        CAT\n",
       "2  STRAY   3/11/2020 0:00   3/13/2020 0:00        CAT\n",
       "3  STRAY   7/30/2021 0:00    8/4/2021 0:00        CAT\n",
       "4  STRAY   7/30/2021 0:00    8/4/2021 0:00        CAT"
      ]
     },
     "execution_count": 8,
     "metadata": {},
     "output_type": "execute_result"
    }
   ],
   "source": [
    "jeffco[column_list].head()"
   ]
  },
  {
   "cell_type": "code",
   "execution_count": 9,
   "id": "06fdf987",
   "metadata": {},
   "outputs": [],
   "source": [
    "new_jeffco =jeffco[column_list].copy()"
   ]
  },
  {
   "cell_type": "code",
   "execution_count": 10,
   "id": "417f48da",
   "metadata": {},
   "outputs": [
    {
     "data": {
      "text/html": [
       "<div>\n",
       "<style scoped>\n",
       "    .dataframe tbody tr th:only-of-type {\n",
       "        vertical-align: middle;\n",
       "    }\n",
       "\n",
       "    .dataframe tbody tr th {\n",
       "        vertical-align: top;\n",
       "    }\n",
       "\n",
       "    .dataframe thead th {\n",
       "        text-align: right;\n",
       "    }\n",
       "</style>\n",
       "<table border=\"1\" class=\"dataframe\">\n",
       "  <thead>\n",
       "    <tr style=\"text-align: right;\">\n",
       "      <th></th>\n",
       "      <th>intype</th>\n",
       "      <th>indate</th>\n",
       "      <th>outdate</th>\n",
       "      <th>animaltype</th>\n",
       "    </tr>\n",
       "  </thead>\n",
       "  <tbody>\n",
       "    <tr>\n",
       "      <th>count</th>\n",
       "      <td>43172</td>\n",
       "      <td>43172</td>\n",
       "      <td>38119</td>\n",
       "      <td>43172</td>\n",
       "    </tr>\n",
       "    <tr>\n",
       "      <th>unique</th>\n",
       "      <td>10</td>\n",
       "      <td>1476</td>\n",
       "      <td>1496</td>\n",
       "      <td>7</td>\n",
       "    </tr>\n",
       "    <tr>\n",
       "      <th>top</th>\n",
       "      <td>STRAY</td>\n",
       "      <td>6/10/2018 0:00</td>\n",
       "      <td>6/10/2018 0:00</td>\n",
       "      <td>DOG</td>\n",
       "    </tr>\n",
       "    <tr>\n",
       "      <th>freq</th>\n",
       "      <td>24141</td>\n",
       "      <td>102</td>\n",
       "      <td>97</td>\n",
       "      <td>22926</td>\n",
       "    </tr>\n",
       "  </tbody>\n",
       "</table>\n",
       "</div>"
      ],
      "text/plain": [
       "       intype          indate         outdate animaltype\n",
       "count   43172           43172           38119      43172\n",
       "unique     10            1476            1496          7\n",
       "top     STRAY  6/10/2018 0:00  6/10/2018 0:00        DOG\n",
       "freq    24141             102              97      22926"
      ]
     },
     "execution_count": 10,
     "metadata": {},
     "output_type": "execute_result"
    }
   ],
   "source": [
    "new_jeffco.describe()"
   ]
  },
  {
   "cell_type": "code",
   "execution_count": 11,
   "id": "e5add8ce",
   "metadata": {},
   "outputs": [
    {
     "data": {
      "text/html": [
       "<div>\n",
       "<style scoped>\n",
       "    .dataframe tbody tr th:only-of-type {\n",
       "        vertical-align: middle;\n",
       "    }\n",
       "\n",
       "    .dataframe tbody tr th {\n",
       "        vertical-align: top;\n",
       "    }\n",
       "\n",
       "    .dataframe thead th {\n",
       "        text-align: right;\n",
       "    }\n",
       "</style>\n",
       "<table border=\"1\" class=\"dataframe\">\n",
       "  <thead>\n",
       "    <tr style=\"text-align: right;\">\n",
       "      <th></th>\n",
       "      <th>intype</th>\n",
       "      <th>indate</th>\n",
       "      <th>outdate</th>\n",
       "      <th>animaltype</th>\n",
       "    </tr>\n",
       "  </thead>\n",
       "  <tbody>\n",
       "    <tr>\n",
       "      <th>1048570</th>\n",
       "      <td>NaN</td>\n",
       "      <td>NaN</td>\n",
       "      <td>NaN</td>\n",
       "      <td>NaN</td>\n",
       "    </tr>\n",
       "    <tr>\n",
       "      <th>1048571</th>\n",
       "      <td>NaN</td>\n",
       "      <td>NaN</td>\n",
       "      <td>NaN</td>\n",
       "      <td>NaN</td>\n",
       "    </tr>\n",
       "    <tr>\n",
       "      <th>1048572</th>\n",
       "      <td>NaN</td>\n",
       "      <td>NaN</td>\n",
       "      <td>NaN</td>\n",
       "      <td>NaN</td>\n",
       "    </tr>\n",
       "    <tr>\n",
       "      <th>1048573</th>\n",
       "      <td>NaN</td>\n",
       "      <td>NaN</td>\n",
       "      <td>NaN</td>\n",
       "      <td>NaN</td>\n",
       "    </tr>\n",
       "    <tr>\n",
       "      <th>1048574</th>\n",
       "      <td>NaN</td>\n",
       "      <td>NaN</td>\n",
       "      <td>NaN</td>\n",
       "      <td>NaN</td>\n",
       "    </tr>\n",
       "  </tbody>\n",
       "</table>\n",
       "</div>"
      ],
      "text/plain": [
       "        intype indate outdate animaltype\n",
       "1048570    NaN    NaN     NaN        NaN\n",
       "1048571    NaN    NaN     NaN        NaN\n",
       "1048572    NaN    NaN     NaN        NaN\n",
       "1048573    NaN    NaN     NaN        NaN\n",
       "1048574    NaN    NaN     NaN        NaN"
      ]
     },
     "execution_count": 11,
     "metadata": {},
     "output_type": "execute_result"
    }
   ],
   "source": [
    "new_jeffco.tail()"
   ]
  },
  {
   "cell_type": "code",
   "execution_count": 12,
   "id": "b58458f6",
   "metadata": {},
   "outputs": [],
   "source": [
    "#cleaning NaN after dropping columns\n",
    "new_jeffco.dropna(axis=0, how=\"all\", inplace=True)"
   ]
  },
  {
   "cell_type": "code",
   "execution_count": 13,
   "id": "f9dc8119",
   "metadata": {},
   "outputs": [
    {
     "data": {
      "text/html": [
       "<div>\n",
       "<style scoped>\n",
       "    .dataframe tbody tr th:only-of-type {\n",
       "        vertical-align: middle;\n",
       "    }\n",
       "\n",
       "    .dataframe tbody tr th {\n",
       "        vertical-align: top;\n",
       "    }\n",
       "\n",
       "    .dataframe thead th {\n",
       "        text-align: right;\n",
       "    }\n",
       "</style>\n",
       "<table border=\"1\" class=\"dataframe\">\n",
       "  <thead>\n",
       "    <tr style=\"text-align: right;\">\n",
       "      <th></th>\n",
       "      <th>intype</th>\n",
       "      <th>indate</th>\n",
       "      <th>outdate</th>\n",
       "      <th>animaltype</th>\n",
       "    </tr>\n",
       "  </thead>\n",
       "  <tbody>\n",
       "    <tr>\n",
       "      <th>43167</th>\n",
       "      <td>STRAY</td>\n",
       "      <td>10/24/2020 0:00</td>\n",
       "      <td>10/24/2020 0:00</td>\n",
       "      <td>DOG</td>\n",
       "    </tr>\n",
       "    <tr>\n",
       "      <th>43168</th>\n",
       "      <td>STRAY</td>\n",
       "      <td>10/25/2020 0:00</td>\n",
       "      <td>10/29/2020 0:00</td>\n",
       "      <td>DOG</td>\n",
       "    </tr>\n",
       "    <tr>\n",
       "      <th>43169</th>\n",
       "      <td>LOST</td>\n",
       "      <td>10/13/2020 0:00</td>\n",
       "      <td>NaN</td>\n",
       "      <td>CAT</td>\n",
       "    </tr>\n",
       "    <tr>\n",
       "      <th>43170</th>\n",
       "      <td>STRAY</td>\n",
       "      <td>10/27/2020 0:00</td>\n",
       "      <td>11/6/2020 0:00</td>\n",
       "      <td>DOG</td>\n",
       "    </tr>\n",
       "    <tr>\n",
       "      <th>43171</th>\n",
       "      <td>FOUND</td>\n",
       "      <td>10/16/2020 0:00</td>\n",
       "      <td>NaN</td>\n",
       "      <td>CAT</td>\n",
       "    </tr>\n",
       "  </tbody>\n",
       "</table>\n",
       "</div>"
      ],
      "text/plain": [
       "      intype           indate          outdate animaltype\n",
       "43167  STRAY  10/24/2020 0:00  10/24/2020 0:00        DOG\n",
       "43168  STRAY  10/25/2020 0:00  10/29/2020 0:00        DOG\n",
       "43169   LOST  10/13/2020 0:00              NaN        CAT\n",
       "43170  STRAY  10/27/2020 0:00   11/6/2020 0:00        DOG\n",
       "43171  FOUND  10/16/2020 0:00              NaN        CAT"
      ]
     },
     "execution_count": 13,
     "metadata": {},
     "output_type": "execute_result"
    }
   ],
   "source": [
    "new_jeffco.tail()"
   ]
  },
  {
   "cell_type": "code",
   "execution_count": 14,
   "id": "8847b7e4",
   "metadata": {},
   "outputs": [
    {
     "data": {
      "text/plain": [
       "intype        object\n",
       "indate        object\n",
       "outdate       object\n",
       "animaltype    object\n",
       "dtype: object"
      ]
     },
     "execution_count": 14,
     "metadata": {},
     "output_type": "execute_result"
    }
   ],
   "source": [
    "new_jeffco.dtypes"
   ]
  },
  {
   "cell_type": "code",
   "execution_count": 15,
   "id": "6ebd4800",
   "metadata": {},
   "outputs": [],
   "source": [
    "#changing indate and outdate to datetime \n",
    "new_jeffco['indate']=pd.to_datetime(new_jeffco.indate)"
   ]
  },
  {
   "cell_type": "code",
   "execution_count": 16,
   "id": "d5bd518e",
   "metadata": {},
   "outputs": [
    {
     "data": {
      "text/plain": [
       "intype                object\n",
       "indate        datetime64[ns]\n",
       "outdate               object\n",
       "animaltype            object\n",
       "dtype: object"
      ]
     },
     "execution_count": 16,
     "metadata": {},
     "output_type": "execute_result"
    }
   ],
   "source": [
    "new_jeffco.dtypes"
   ]
  },
  {
   "cell_type": "code",
   "execution_count": 17,
   "id": "9367f4aa",
   "metadata": {},
   "outputs": [],
   "source": [
    "new_jeffco['outdate']=pd.to_datetime(new_jeffco.outdate)"
   ]
  },
  {
   "cell_type": "code",
   "execution_count": 18,
   "id": "f001c0bc",
   "metadata": {},
   "outputs": [
    {
     "data": {
      "text/plain": [
       "intype                object\n",
       "indate        datetime64[ns]\n",
       "outdate       datetime64[ns]\n",
       "animaltype            object\n",
       "dtype: object"
      ]
     },
     "execution_count": 18,
     "metadata": {},
     "output_type": "execute_result"
    }
   ],
   "source": [
    "new_jeffco.dtypes"
   ]
  },
  {
   "cell_type": "code",
   "execution_count": 19,
   "id": "9b8016ce",
   "metadata": {},
   "outputs": [
    {
     "data": {
      "text/plain": [
       "(43172, 4)"
      ]
     },
     "execution_count": 19,
     "metadata": {},
     "output_type": "execute_result"
    }
   ],
   "source": [
    "new_jeffco.shape"
   ]
  },
  {
   "cell_type": "code",
   "execution_count": 20,
   "id": "007b560e",
   "metadata": {},
   "outputs": [
    {
     "data": {
      "text/html": [
       "<div>\n",
       "<style scoped>\n",
       "    .dataframe tbody tr th:only-of-type {\n",
       "        vertical-align: middle;\n",
       "    }\n",
       "\n",
       "    .dataframe tbody tr th {\n",
       "        vertical-align: top;\n",
       "    }\n",
       "\n",
       "    .dataframe thead th {\n",
       "        text-align: right;\n",
       "    }\n",
       "</style>\n",
       "<table border=\"1\" class=\"dataframe\">\n",
       "  <thead>\n",
       "    <tr style=\"text-align: right;\">\n",
       "      <th></th>\n",
       "      <th>intype</th>\n",
       "      <th>indate</th>\n",
       "      <th>outdate</th>\n",
       "      <th>animaltype</th>\n",
       "    </tr>\n",
       "  </thead>\n",
       "  <tbody>\n",
       "    <tr>\n",
       "      <th>0</th>\n",
       "      <td>STRAY</td>\n",
       "      <td>2019-11-14</td>\n",
       "      <td>2019-11-16</td>\n",
       "      <td>CAT</td>\n",
       "    </tr>\n",
       "    <tr>\n",
       "      <th>1</th>\n",
       "      <td>STRAY</td>\n",
       "      <td>2020-03-11</td>\n",
       "      <td>2020-03-13</td>\n",
       "      <td>CAT</td>\n",
       "    </tr>\n",
       "    <tr>\n",
       "      <th>2</th>\n",
       "      <td>STRAY</td>\n",
       "      <td>2020-03-11</td>\n",
       "      <td>2020-03-13</td>\n",
       "      <td>CAT</td>\n",
       "    </tr>\n",
       "    <tr>\n",
       "      <th>3</th>\n",
       "      <td>STRAY</td>\n",
       "      <td>2021-07-30</td>\n",
       "      <td>2021-08-04</td>\n",
       "      <td>CAT</td>\n",
       "    </tr>\n",
       "    <tr>\n",
       "      <th>4</th>\n",
       "      <td>STRAY</td>\n",
       "      <td>2021-07-30</td>\n",
       "      <td>2021-08-04</td>\n",
       "      <td>CAT</td>\n",
       "    </tr>\n",
       "    <tr>\n",
       "      <th>...</th>\n",
       "      <td>...</td>\n",
       "      <td>...</td>\n",
       "      <td>...</td>\n",
       "      <td>...</td>\n",
       "    </tr>\n",
       "    <tr>\n",
       "      <th>43167</th>\n",
       "      <td>STRAY</td>\n",
       "      <td>2020-10-24</td>\n",
       "      <td>2020-10-24</td>\n",
       "      <td>DOG</td>\n",
       "    </tr>\n",
       "    <tr>\n",
       "      <th>43168</th>\n",
       "      <td>STRAY</td>\n",
       "      <td>2020-10-25</td>\n",
       "      <td>2020-10-29</td>\n",
       "      <td>DOG</td>\n",
       "    </tr>\n",
       "    <tr>\n",
       "      <th>43169</th>\n",
       "      <td>LOST</td>\n",
       "      <td>2020-10-13</td>\n",
       "      <td>NaT</td>\n",
       "      <td>CAT</td>\n",
       "    </tr>\n",
       "    <tr>\n",
       "      <th>43170</th>\n",
       "      <td>STRAY</td>\n",
       "      <td>2020-10-27</td>\n",
       "      <td>2020-11-06</td>\n",
       "      <td>DOG</td>\n",
       "    </tr>\n",
       "    <tr>\n",
       "      <th>43171</th>\n",
       "      <td>FOUND</td>\n",
       "      <td>2020-10-16</td>\n",
       "      <td>NaT</td>\n",
       "      <td>CAT</td>\n",
       "    </tr>\n",
       "  </tbody>\n",
       "</table>\n",
       "<p>43172 rows × 4 columns</p>\n",
       "</div>"
      ],
      "text/plain": [
       "      intype     indate    outdate animaltype\n",
       "0      STRAY 2019-11-14 2019-11-16        CAT\n",
       "1      STRAY 2020-03-11 2020-03-13        CAT\n",
       "2      STRAY 2020-03-11 2020-03-13        CAT\n",
       "3      STRAY 2021-07-30 2021-08-04        CAT\n",
       "4      STRAY 2021-07-30 2021-08-04        CAT\n",
       "...      ...        ...        ...        ...\n",
       "43167  STRAY 2020-10-24 2020-10-24        DOG\n",
       "43168  STRAY 2020-10-25 2020-10-29        DOG\n",
       "43169   LOST 2020-10-13        NaT        CAT\n",
       "43170  STRAY 2020-10-27 2020-11-06        DOG\n",
       "43171  FOUND 2020-10-16        NaT        CAT\n",
       "\n",
       "[43172 rows x 4 columns]"
      ]
     },
     "execution_count": 20,
     "metadata": {},
     "output_type": "execute_result"
    }
   ],
   "source": [
    "new_jeffco"
   ]
  },
  {
   "cell_type": "code",
   "execution_count": 21,
   "id": "9f1cbf02",
   "metadata": {},
   "outputs": [],
   "source": [
    "data_19_21 = new_jeffco[new_jeffco.indate >= '2019-01-01'].copy()"
   ]
  },
  {
   "cell_type": "code",
   "execution_count": 22,
   "id": "06fe00ad",
   "metadata": {},
   "outputs": [
    {
     "data": {
      "text/html": [
       "<div>\n",
       "<style scoped>\n",
       "    .dataframe tbody tr th:only-of-type {\n",
       "        vertical-align: middle;\n",
       "    }\n",
       "\n",
       "    .dataframe tbody tr th {\n",
       "        vertical-align: top;\n",
       "    }\n",
       "\n",
       "    .dataframe thead th {\n",
       "        text-align: right;\n",
       "    }\n",
       "</style>\n",
       "<table border=\"1\" class=\"dataframe\">\n",
       "  <thead>\n",
       "    <tr style=\"text-align: right;\">\n",
       "      <th></th>\n",
       "      <th>intype</th>\n",
       "      <th>indate</th>\n",
       "      <th>outdate</th>\n",
       "      <th>animaltype</th>\n",
       "    </tr>\n",
       "  </thead>\n",
       "  <tbody>\n",
       "    <tr>\n",
       "      <th>0</th>\n",
       "      <td>STRAY</td>\n",
       "      <td>2019-11-14</td>\n",
       "      <td>2019-11-16</td>\n",
       "      <td>CAT</td>\n",
       "    </tr>\n",
       "    <tr>\n",
       "      <th>1</th>\n",
       "      <td>STRAY</td>\n",
       "      <td>2020-03-11</td>\n",
       "      <td>2020-03-13</td>\n",
       "      <td>CAT</td>\n",
       "    </tr>\n",
       "    <tr>\n",
       "      <th>2</th>\n",
       "      <td>STRAY</td>\n",
       "      <td>2020-03-11</td>\n",
       "      <td>2020-03-13</td>\n",
       "      <td>CAT</td>\n",
       "    </tr>\n",
       "    <tr>\n",
       "      <th>3</th>\n",
       "      <td>STRAY</td>\n",
       "      <td>2021-07-30</td>\n",
       "      <td>2021-08-04</td>\n",
       "      <td>CAT</td>\n",
       "    </tr>\n",
       "    <tr>\n",
       "      <th>4</th>\n",
       "      <td>STRAY</td>\n",
       "      <td>2021-07-30</td>\n",
       "      <td>2021-08-04</td>\n",
       "      <td>CAT</td>\n",
       "    </tr>\n",
       "  </tbody>\n",
       "</table>\n",
       "</div>"
      ],
      "text/plain": [
       "  intype     indate    outdate animaltype\n",
       "0  STRAY 2019-11-14 2019-11-16        CAT\n",
       "1  STRAY 2020-03-11 2020-03-13        CAT\n",
       "2  STRAY 2020-03-11 2020-03-13        CAT\n",
       "3  STRAY 2021-07-30 2021-08-04        CAT\n",
       "4  STRAY 2021-07-30 2021-08-04        CAT"
      ]
     },
     "execution_count": 22,
     "metadata": {},
     "output_type": "execute_result"
    }
   ],
   "source": [
    "data_19_21.head()"
   ]
  },
  {
   "cell_type": "code",
   "execution_count": 23,
   "id": "41749164",
   "metadata": {},
   "outputs": [
    {
     "data": {
      "text/plain": [
       "Timestamp('2019-01-01 00:00:00')"
      ]
     },
     "execution_count": 23,
     "metadata": {},
     "output_type": "execute_result"
    }
   ],
   "source": [
    "data_19_21.indate.min()"
   ]
  },
  {
   "cell_type": "code",
   "execution_count": 24,
   "id": "077fbd6a",
   "metadata": {},
   "outputs": [],
   "source": [
    "#using only year and month from datetime\n",
    "data_19_21['yy_mm']= data_19_21.indate.apply(lambda x: x.strftime('%Y-%m')).copy()"
   ]
  },
  {
   "cell_type": "code",
   "execution_count": 25,
   "id": "3414f1b2",
   "metadata": {},
   "outputs": [
    {
     "data": {
      "text/plain": [
       "intype                object\n",
       "indate        datetime64[ns]\n",
       "outdate       datetime64[ns]\n",
       "animaltype            object\n",
       "yy_mm                 object\n",
       "dtype: object"
      ]
     },
     "execution_count": 25,
     "metadata": {},
     "output_type": "execute_result"
    }
   ],
   "source": [
    "data_19_21.dtypes"
   ]
  },
  {
   "cell_type": "code",
   "execution_count": 29,
   "id": "7ff069fb",
   "metadata": {},
   "outputs": [],
   "source": [
    "mo_data = data_19_21['yy_mm'].value_counts().sort_index().copy()"
   ]
  },
  {
   "cell_type": "markdown",
   "id": "5de7762a",
   "metadata": {},
   "source": [
    "### Category 3: Data Display\n",
    "Visualize data in a graph. Covid-19 \n"
   ]
  },
  {
   "cell_type": "code",
   "execution_count": 30,
   "id": "588bc643",
   "metadata": {},
   "outputs": [
    {
     "data": {
      "text/plain": [
       "Text(0.5, 1.0, 'Jefferson Co. Intakes Count 2019-2021 \\n (red line = the start of Covid-19)')"
      ]
     },
     "execution_count": 30,
     "metadata": {},
     "output_type": "execute_result"
    },
    {
     "data": {
      "image/png": "[encoded data removed]",
      "text/plain": [
       "<Figure size 432x288 with 1 Axes>"
      ]
     },
     "metadata": {
      "needs_background": "light"
     },
     "output_type": "display_data"
    }
   ],
   "source": [
    "plt.plot(mo_data)\n",
    "plt.xticks(['2019-01', '2020-01', '2021-01'])\n",
    "plt.axvline('2020-03', color = 'red')\n",
    "plt.xlim(['2019-01', '2021-12'])\n",
    "plt.title('Jefferson Co. Intakes Count 2019-2021 \\n (red line = the start of Covid-19)')\n"
   ]
  },
  {
   "cell_type": "markdown",
   "id": "d89e40cd",
   "metadata": {},
   "source": [
    "#### Graph Comments:\n",
    "The red line indicates March 2020 - when Covid-19 was detected in the U.S.\n",
    "An upsurge of animal adoptions was reported across the U.S., in 2020.\n",
    "The Jefferson County's graph indicates a reduction of intakes, \n",
    "which reflects the general upsurge around the country at that time.\n"
   ]
  }
 ],
 "metadata": {
  "kernelspec": {
   "display_name": "Python 3 (ipykernel)",
   "language": "python",
   "name": "python3"
  },
  "language_info": {
   "codemirror_mode": {
    "name": "ipython",
    "version": 3
   },
   "file_extension": ".py",
   "mimetype": "text/x-python",
   "name": "python",
   "nbconvert_exporter": "python",
   "pygments_lexer": "ipython3",
   "version": "3.9.7"
  }
 },
 "nbformat": 4,
 "nbformat_minor": 5
}
